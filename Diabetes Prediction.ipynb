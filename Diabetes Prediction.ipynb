{
 "cells": [
  {
   "cell_type": "markdown",
   "id": "41c1f2e7-e248-428e-90d0-3a59b8314f68",
   "metadata": {},
   "source": [
    "## Edit mode and Command mode ##"
   ]
  },
  {
   "cell_type": "code",
   "execution_count": null,
   "id": "3d4dda6a-6e24-419d-9e00-f4befbfc1eb7",
   "metadata": {},
   "outputs": [],
   "source": [
    "import numpy as np\n",
    "import pandas as pd\n",
    "import matplotlib.pyplot as plt\n",
    "from sklearn.linear_model import LogisticRegression\n",
    "from sklearn.model_selection import train_test_split,GridSearchCV,cross_val_score\n",
    "import seaborn as sns\n",
    "from sklearn.metrics import accuracy_score,mean_squared_error,classification_report,confusion_matrix,precision_score,recall_score,roc_curve,auc\n",
    "from sklearn.feature_selection import SelectKBest\n",
    "from sklearn.feature_selection import chi2\n",
    "from sklearn.ensemble import ExtraTreesClassifier,RandomForestClassifier\n",
    "from sklearn.tree import DecisionTreeClassifier\n",
    "from sklearn.svm import SVC \n",
    "from sklearn.naive_bayes import GaussianNB\n",
    "from sklearn.preprocessing import StandardScaler,MinMaxScaler\n",
    "from sklearn.neighbors import KNeighborsClassifier\n"
   ]
  },
  {
   "cell_type": "code",
   "execution_count": null,
   "id": "c8d88b88-c703-4b43-a296-19be74df86a8",
   "metadata": {},
   "outputs": [],
   "source": [
    "#read the excel file\n",
    "data=pd.read_excel(\"D:\\\\health care diabetes.xlsx\")\n",
    "data.head()"
   ]
  },
  {
   "cell_type": "code",
   "execution_count": null,
   "id": "0638c6f4-53dd-4548-92fe-813875e0879a",
   "metadata": {},
   "outputs": [],
   "source": [
    "data.shape"
   ]
  },
  {
   "cell_type": "markdown",
   "id": "73af882a-7cb3-43ec-9026-a4fda80e41be",
   "metadata": {},
   "source": [
    "The output data.shape representing (768, 9) signifies that the DataFrame 'data' contains 768 rows and 9 columns. "
   ]
  },
  {
   "cell_type": "code",
   "execution_count": null,
   "id": "09ff5c30-91e2-4e2b-91e5-c2faf467cf78",
   "metadata": {},
   "outputs": [],
   "source": [
    "data.info()\n",
    "data.describe()\n",
    "data"
   ]
  },
  {
   "cell_type": "code",
   "execution_count": null,
   "id": "fb371418-b131-4cc0-bf49-0319ac1c6782",
   "metadata": {},
   "outputs": [],
   "source": [
    "data.describe()"
   ]
  },
  {
   "cell_type": "markdown",
   "id": "5734612e-a2a5-43f1-9f8d-d1e561109d5f",
   "metadata": {},
   "source": [
    "### Data Preprocessing : \" Handling Missing Values \"\n",
    "#### In this dataset missing values are represented by 0, so replace  them with the mean of their feature columns."
   ]
  },
  {
   "cell_type": "code",
   "execution_count": null,
   "id": "f2d1954e-e3d5-4b99-a372-e78a12e18af2",
   "metadata": {},
   "outputs": [],
   "source": [
    "#Finding number of having null values in a row\n",
    "#data[i][data[i] != 0] =>[data[i] != 0] this is condtion return true or false and data[i] will take that values that has value true\n",
    "for i in data.columns:\n",
    "    print(i,(data[i]==0).sum())\n",
    "    #Finding the column with maximum number of null value\n"
   ]
  },
  {
   "cell_type": "code",
   "execution_count": null,
   "id": "75dc24d9-9060-4d7a-932b-4d8848036303",
   "metadata": {},
   "outputs": [],
   "source": [
    "#making list of columns which contain null values or 0\n",
    "change_col=[]\n",
    "for i in data.columns:\n",
    "    if (data[i]==0).sum()!=0:\n",
    "        change_col.append(i)\n",
    "#With pregnencies the outcome might result 0 so removing these two\n",
    "no_change=[\"Pregnancies\",\"Outcome\"]\n",
    "for i in no_change:\n",
    "    change_col.remove(i)\n",
    "change_col"
   ]
  },
  {
   "cell_type": "code",
   "execution_count": null,
   "id": "1ff88fd8-6733-4fe8-858d-4cfb22fdd6cc",
   "metadata": {},
   "outputs": [],
   "source": [
    "#finding the null value percentage \n",
    "null_percentage=(data[change_col]==0).mean()*100\n",
    "null_percentage"
   ]
  },
  {
   "cell_type": "code",
   "execution_count": null,
   "id": "10047bb6-f082-48d5-ba70-53c3cd9a893b",
   "metadata": {},
   "outputs": [],
   "source": [
    "#replacing 0 with the mean values of the columns\n",
    "for i in change_col:\n",
    "   data[i]=data[i].replace([0],data[i].mean())\n",
    "# interpolate method may also be used \n"
   ]
  },
  {
   "cell_type": "code",
   "execution_count": null,
   "id": "86b7f099-7d50-4c24-af75-0bd643785ea2",
   "metadata": {},
   "outputs": [],
   "source": [
    "\n",
    "null_percentages = data.isnull().mean() * 100\n",
    "null_percentages\n"
   ]
  },
  {
   "cell_type": "markdown",
   "id": "4029d9eb-203b-4ada-84ef-885f0d37590a",
   "metadata": {},
   "source": [
    "NOW THE DATA IS CLEAN FROM NULL VALUES"
   ]
  },
  {
   "cell_type": "markdown",
   "id": "17395267-5bb4-4bca-a9f9-2538fece0898",
   "metadata": {},
   "source": [
    "## Detecting outlier and treatment "
   ]
  },
  {
   "cell_type": "code",
   "execution_count": null,
   "id": "7b604154-9425-41af-a34b-fcc7c23de361",
   "metadata": {},
   "outputs": [],
   "source": [
    "data.describe()"
   ]
  },
  {
   "cell_type": "code",
   "execution_count": null,
   "id": "291ad529-9dd2-400a-a0bb-85f95ece4add",
   "metadata": {},
   "outputs": [],
   "source": [
    "selected_col=['Glucose', 'BloodPressure', 'SkinThickness', 'Insulin']\n",
    "#columns=data[change_col]\n",
    "columns=data[selected_col]\n",
    "\n",
    "plt.figure(figsize=(5,3))\n",
    "sns.boxplot(data=columns)\n",
    "plt.title(\"Boxplots for numeric column\")\n",
    "plt.show()"
   ]
  },
  {
   "cell_type": "markdown",
   "id": "fadf4aa0-a242-4eb7-9e5b-1a279ea95ea9",
   "metadata": {},
   "source": [
    "#### BOXPLOT/Whisker plot => USED FOR VISUALIZING THE OUTLIERS\n",
    "IQR =>INTER QUARTILE RANGE LENGTH OF THE BOX FROM TOP-DOWN\n",
    "q1=>quantile 1 - 25th percentile \n",
    "q3=>quantile 1 - 75th percentile \n",
    "lower bound => lower whisker line \n",
    "data[condition] => filtering(extraction few rows from dataset) "
   ]
  },
  {
   "cell_type": "code",
   "execution_count": null,
   "id": "618e4c59-7fe6-41c5-8a90-2def9acc2427",
   "metadata": {},
   "outputs": [],
   "source": [
    "# Finding the Outlier Count in the selected Columns: \n",
    "def find_outliers_iqr(data, column_name):\n",
    "# Calculate the first quartile (Q1) and third quartile (Q3) \n",
    "    Q1 = data[column_name].quantile(0.25) \n",
    "    Q3 = data[column_name].quantile(0.75) \n",
    "# Calculate the interquartile range (IQR) \n",
    "    IQR = Q3 - Q1 \n",
    "# Define the lower and upper bounds for outliers \n",
    "    lower_bound = Q1 - 1.5 * IQR \n",
    "    upper_bound = Q3 + 1.5 * IQR \n",
    "# Find outliers \n",
    "    outliers = data[(data[column_name] < lower_bound) | (data[column_name] > upper_bound)] \n",
    "# Count the number of outliers \n",
    "    count_outliers = len(outliers) \n",
    "    return count_outliers \n",
    "# Calculate and print the number of outliers for each column of interest \n",
    "for column_name in selected_col: \n",
    "\n",
    "  outlier_count = find_outliers_iqr(data,column_name) \n",
    "  print(f\"Number of outliers in the '{column_name}' column: {outlier_count}\")"
   ]
  },
  {
   "cell_type": "markdown",
   "id": "092875aa-0536-4e2e-aa82-404804237167",
   "metadata": {},
   "source": [
    "#### Boxplot Analysis for Numerical Columns :\n",
    "the boxplot illustrates the distribution of of our numerical columns:Glucose,Bloodpressure,skinThickness and insulin.THe following inferences can be drawn:\n",
    "##### Glucose :\n",
    "median glucose level =>200\n",
    "iqr is large indicating considerable variability in glucose levels.\n",
    "there are no ouliers\n",
    "\n",
    "##### Blood Pressure:\n",
    "median blood pressure :72 mmHg (within normal range)\n",
    "Iqr is relatively small suggesting more consistent blood pressure levels.\n",
    "few outliers none extemely high or low\n",
    "\n",
    "##### Insulin :\n",
    "=> median insulin level=>79 mlU/L\n",
    "IQR IS large inidcation consideragble variablitliy in insulin levels\n",
    "more outliers,many are extremely high\n",
    "\n",
    "##### Overall Observations :\n",
    "All columns exhiibit a wide range of values with some outliers .Insuling columns has many Outliers.\n",
    "median values for all columns except the insuling column fall withing the normal range .\n",
    "\n",
    "##### Additional Inferences :\n",
    "Glucose level show more variability than blood pressure levels\n",
    "more outliers in the insulin column compared to blood pressure and skin thickness.\n",
    "\n",
    "##### Possible interpretations :\n",
    "variability in glucose levels may be influenced by factors like diet.exercise,and stress\n",
    "outliers in the insulin may be associated underlying medical conditions or phyiological factors. factors such as dietary habits,genetic or medical treatments contribute to higher insulin levels.\n",
    "ESSENTIAL to note these inferences are based on a single boxplot and further info is nedded to draw definitive conclusions.\n",
    " \n",
    "## OUTLIER TREATMENT\n"
   ]
  },
  {
   "cell_type": "code",
   "execution_count": null,
   "id": "6b4455f3-c551-44a9-9252-cba4b6444d4b",
   "metadata": {},
   "outputs": [],
   "source": [
    "sorted(data)\n",
    "Q1=data.quantile(0.20)\n",
    "Q3=data.quantile(0.80)\n",
    "IQR=Q3-Q1\n",
    "print(IQR)\n"
   ]
  },
  {
   "cell_type": "code",
   "execution_count": null,
   "id": "aabce43b-75ac-45ca-9b2d-06cd67f29869",
   "metadata": {},
   "outputs": [],
   "source": [
    "data_cleared_iqr=data[~((data < (Q1 - 1.5 * IQR)) |(data > (Q3 + 1.5 * IQR))).any(axis=1)]\n",
    "data_cleared_iqr\n",
    "# axis 1 => column axis=>0 row \n",
    "#removed values less than lower bound and greater than upper bound\n",
    "print(data_cleared_iqr.shape)\n",
    "print(data.shape)"
   ]
  },
  {
   "cell_type": "code",
   "execution_count": null,
   "id": "c5c54ed5-156b-477f-830d-5d030d5c7769",
   "metadata": {},
   "outputs": [],
   "source": [
    "data_cleared_iqr.head()"
   ]
  },
  {
   "cell_type": "code",
   "execution_count": null,
   "id": "e484af31-5283-4336-8216-b7603d4596ca",
   "metadata": {},
   "outputs": [],
   "source": [
    "col=data_cleared_iqr[['Glucose','BloodPressure','SkinThickness','Insulin']]\n"
   ]
  },
  {
   "cell_type": "code",
   "execution_count": null,
   "id": "e0fec594-665f-493d-b6b1-189f1b56f176",
   "metadata": {},
   "outputs": [],
   "source": [
    "#checking the ouliers after treatment using box plot \n",
    "plt.figure(figsize=(12,8))\n",
    "sns.boxplot(data=col)\n",
    "plt.show()"
   ]
  },
  {
   "cell_type": "markdown",
   "id": "b3ab75c5-fa9e-48ed-9fc0-eb1eedb7d511",
   "metadata": {},
   "source": [
    "**It can be observed that ouliers have been significantly reduced**\n",
    "\n",
    "## EDA-UNIVARIATE analysis for each feature\n",
    "eda=>exploratory data analysis\n",
    "1) univariate analysis ->Histograms(frequency response plot),Countplot\n",
    "2) bivariate analysis\n",
    "3) multivariate analysis\n",
    "#### Visually exploring variables using histograms"
   ]
  },
  {
   "cell_type": "code",
   "execution_count": null,
   "id": "2526a3fb-c6c0-44f6-8d92-d2870eb18bda",
   "metadata": {},
   "outputs": [],
   "source": [
    "data['Glucose'].plot(kind='hist',figsize=(5,5))\n",
    "plt.legend()\n",
    "plt.show()\n",
    "#starting from 44 to 199\n",
    "#it take bins by default size bw two values\n",
    "#tells for specific range how many values are there"
   ]
  },
  {
   "cell_type": "markdown",
   "id": "70e76938-289b-467d-a48c-4a2f47810b57",
   "metadata": {},
   "source": [
    "### Inference:\n",
    "The data appears to be normally distributed, with a peak in the middle of the range and with the tails tapering off on either side.\n",
    "The normal range for blood glucose levels is considered to be between 70 and 110 mg/dL. The data in the image appears to be mostly above this range, suggesting that the people represented in the data may have diabetes.\n",
    "The data could be used to create a variety of other visualizations, such as a box plot or a scatter plot. These visualizations could provide more information about the distribution of the data, such as the outliers and the range of values."
   ]
  },
  {
   "cell_type": "code",
   "execution_count": null,
   "id": "98f6f3d1-ba00-4497-8a7e-40be13515cff",
   "metadata": {},
   "outputs": [],
   "source": [
    "data['BloodPressure'].plot(kind='hist',figsize=(10,5))\n",
    "plt.legend()\n",
    "plt.show()"
   ]
  },
  {
   "cell_type": "code",
   "execution_count": null,
   "id": "985948cd-a83f-4700-9dbb-570998c9f3c4",
   "metadata": {},
   "outputs": [],
   "source": [
    "data['SkinThickness'].plot(kind='hist',figsize=(10,5))\n",
    "plt.legend()\n",
    "plt.show()"
   ]
  },
  {
   "cell_type": "code",
   "execution_count": null,
   "id": "26868c74-91c2-4fbf-bad2-d76b13c133b1",
   "metadata": {},
   "outputs": [],
   "source": [
    "data['Insulin'].plot(kind='hist',figsize=(10,5))\n",
    "plt.legend()\n",
    "plt.show()"
   ]
  },
  {
   "cell_type": "markdown",
   "id": "f95d0b1d-d223-465b-9bc6-0f1e3b1aca7f",
   "metadata": {},
   "source": [
    "## VIOLIN PLOT"
   ]
  },
  {
   "cell_type": "code",
   "execution_count": null,
   "id": "ab9cf412-2be8-4837-9612-4291882a1dfa",
   "metadata": {},
   "outputs": [],
   "source": [
    "plt.figure(figsize=(5,5))\n",
    "sns.violinplot(data=data[selected_col])\n",
    "plt.title(\"violin plot of selected features\")\n",
    "plt.show()"
   ]
  },
  {
   "cell_type": "markdown",
   "id": "d3b23f08-9a95-4336-92aa-b1036735e0f7",
   "metadata": {},
   "source": [
    "The violin plot shows the distribution of four numerical features:'Glucose', 'BloodPressure', 'SkinThickness', 'Insulin'.The violin shape represents the probability density function (PDF) of each feature and the boxplot embedded within each violin plot shows the median,IQR and outliers."
   ]
  },
  {
   "cell_type": "markdown",
   "id": "8e62d980-3ac4-4ae1-a2c9-d48268572ae6",
   "metadata": {},
   "source": [
    "#### Kernel Density Estimation (KDE) plot for the selected features "
   ]
  },
  {
   "cell_type": "code",
   "execution_count": null,
   "id": "9bcb46f0-19d3-4daf-9d57-ef7428dddf99",
   "metadata": {},
   "outputs": [],
   "source": [
    "plt.figure(figsize=(5,5))\n",
    "for column in selected_col:\n",
    "    sns.kdeplot(data[column],label=column)\n",
    "plt.title(\"Kernel Density Estimation (KDE) Plot of Numeric Features\")\n",
    "plt.legend()\n",
    "plt.show()"
   ]
  },
  {
   "cell_type": "markdown",
   "id": "c282bfb0-6052-40be-b1bb-03b41f6ecfd6",
   "metadata": {},
   "source": [
    "The image shows a kernel Density Estimation(KDE) PLOT of four numerical features:'Glucose', 'BloodPressure', 'SkinThickness', 'Insulin'.KDE is a NON-PARAMETRIC METHOD for esitmating the probability density function of a random variable the kde plot shows the estimated pdf of each feature which can be used to visualize the distribution of the data \n"
   ]
  },
  {
   "cell_type": "markdown",
   "id": "691d0b72-937c-4ff2-99d6-2cf544df64b2",
   "metadata": {},
   "source": [
    "##### Creating a count (frequency plot describing ) the data types and the count of variables."
   ]
  },
  {
   "cell_type": "code",
   "execution_count": null,
   "id": "e2378e69-1fa9-40fa-9929-0bea3b41de97",
   "metadata": {},
   "outputs": [],
   "source": [
    "data.dtypes"
   ]
  },
  {
   "cell_type": "code",
   "execution_count": null,
   "id": "abfe84a4-bb09-46aa-9870-a7a89947b848",
   "metadata": {},
   "outputs": [],
   "source": [
    "data.dtypes.value_counts()"
   ]
  },
  {
   "cell_type": "code",
   "execution_count": null,
   "id": "239a88b5-d232-42f9-8cf5-c303ed419d72",
   "metadata": {},
   "outputs": [],
   "source": [
    "figsize=(16,2)\n",
    "data.dtypes.value_counts().plot(kind='barh')\n",
    "plt.show()"
   ]
  },
  {
   "cell_type": "markdown",
   "id": "c67ef6e5-6aa2-4495-adb8-7f608476a78e",
   "metadata": {},
   "source": [
    "It can be observed that there are 3 features of integer data type and six features of float data type \n",
    "\n",
    "## Data Exploration:\n",
    "#### Check the balance of the data by plotting the count of outcomes by their value.Describe your findings and plan future course of action "
   ]
  },
  {
   "cell_type": "code",
   "execution_count": null,
   "id": "6f8b9f26-d5c5-48cd-9cfc-ad33d5c27f3e",
   "metadata": {},
   "outputs": [],
   "source": [
    "data['Outcome'].value_counts()"
   ]
  },
  {
   "cell_type": "code",
   "execution_count": null,
   "id": "7e376b3c-d50d-42b2-ae09-8ebe92f1370c",
   "metadata": {},
   "outputs": [],
   "source": [
    "data['Outcome'].value_counts().plot(kind='bar')\n",
    "plt.legend()\n",
    "plt.title('Outcome')\n",
    "plt.show()"
   ]
  },
  {
   "cell_type": "code",
   "execution_count": null,
   "id": "10661bd3-a849-4d48-aa02-196b0675fcf6",
   "metadata": {},
   "outputs": [],
   "source": [
    "outcome=(data['Outcome'].value_counts()/data['Outcome'].shape)*100\n",
    "print(outcome)\n",
    "data['Outcome'].value_counts(1)"
   ]
  },
  {
   "cell_type": "markdown",
   "id": "711b3b1d-9a18-42a4-a51a-b8cddb1a7f9d",
   "metadata": {},
   "source": [
    "#### Inferences from Outcome Distribution\n",
    "**Class Imbalance:**\n",
    "1) the dataset exhibits class imbalance in the outcome variable\n",
    "2) class 0(no diabetes) has 500 instances\n",
    "3) class 1(diabetic) has 268 instances\n",
    "\n",
    "\n",
    "**Potential impact on modeling:**\n",
    "1) class imbalances may affect the performance of machine learning models, particularly for binary classification tasks\n",
    "2) addressing class imbalances through techniques like resampling or using appropriate evaluation metics may be necessary.\n",
    "\n",
    "\n",
    "**Consideration for predictive models:**\n",
    "\n",
    "1) models may need to be evaluated and tuned considering the imbalanced distribution to avooid biased predictions toward the majority class"
   ]
  },
  {
   "cell_type": "code",
   "execution_count": null,
   "id": "6c53c445-23e8-44cc-a5c4-c2f765db6e6c",
   "metadata": {},
   "outputs": [],
   "source": [
    "balanced_data=100-outcome\n",
    "balanced_data"
   ]
  },
  {
   "cell_type": "code",
   "execution_count": null,
   "id": "dd8b2d03-7bb8-47ae-a188-0dedbb1c5b8c",
   "metadata": {},
   "outputs": [],
   "source": [
    "balanced_data.plot(kind='bar')\n",
    "plt.legend()\n",
    "plt.title('bALANCED_data')\n",
    "plt.show()"
   ]
  },
  {
   "cell_type": "markdown",
   "id": "636f10fe-c18e-44c8-8ed6-e19e5bfea366",
   "metadata": {},
   "source": [
    "### Findings and plan future course of action.\n",
    "1) we can see its a imbalance dataset.biased towards class 0 in datasset.this may affect the algo trained as that will also be biased toward same class so we have to balance it.\n",
    "2) we can use resampling or smote to balance a dataset."
   ]
  },
  {
   "cell_type": "markdown",
   "id": "3db434be-5b9c-41af-873a-a4992e3adcca",
   "metadata": {},
   "source": [
    "## Bi-Variate analysis\n",
    "#### creating scatter charts bw the pair of variables to understand relationships."
   ]
  },
  {
   "cell_type": "code",
   "execution_count": null,
   "id": "7c019954-3838-4076-8742-72808cbb1c33",
   "metadata": {},
   "outputs": [],
   "source": [
    "plt.figure(figsize=(5,5))\n",
    "sns.scatterplot(x='Glucose',y='BloodPressure',hue='Outcome',data=data)\n",
    "plt.show()"
   ]
  },
  {
   "cell_type": "markdown",
   "id": "5cc89f09-a1e9-41fc-996a-a192dcd41bec",
   "metadata": {},
   "source": [
    "#### INFERENCES\n",
    "IF THE GLUCOSE LEVEL INCREASES ABOVE 80 THEN THERE ARE HIGH CHANCES OF HAVING DIABETES"
   ]
  },
  {
   "cell_type": "code",
   "execution_count": null,
   "id": "c7649a11-59a1-428d-924e-a4317014f005",
   "metadata": {},
   "outputs": [],
   "source": [
    "plt.figure(figsize=(12,5))\n",
    "sns.scatterplot(x='BMI',y='Insulin',hue='Outcome',data=data)\n",
    "plt.show()"
   ]
  },
  {
   "cell_type": "code",
   "execution_count": null,
   "id": "7c0a0aa4-7c34-4bed-b7a5-b24c40e92acd",
   "metadata": {},
   "outputs": [],
   "source": [
    "plt.figure(figsize=(12,5))\n",
    "sns.scatterplot(x='SkinThickness',y='Insulin',hue='Outcome',data=data)\n",
    "plt.show()"
   ]
  },
  {
   "cell_type": "code",
   "execution_count": null,
   "id": "0f19e69f-d814-4dcf-a6e2-5167c47d93f1",
   "metadata": {},
   "outputs": [],
   "source": [
    "plt.figure(figsize=(12,5))\n",
    "sns.scatterplot(x='Age',y='Glucose',hue='Outcome',data=data)\n",
    "plt.show()"
   ]
  },
  {
   "cell_type": "code",
   "execution_count": null,
   "id": "881926b6-8650-4f14-ac3c-cac20220eb0b",
   "metadata": {},
   "outputs": [],
   "source": [
    "plt.figure(figsize=(12,5))\n",
    "sns.scatterplot(x='Age',y='Pregnancies',hue='Outcome',data=data)\n",
    "plt.show()"
   ]
  },
  {
   "cell_type": "markdown",
   "id": "b5cd2f2d-8548-4fde-a696-7cf9ce2ae4e3",
   "metadata": {},
   "source": [
    "1) WE CAN see pregnanices has highest relation with age feature\n",
    "2) Also outcome has maximum relation with the Glucose and minimum with blood pressure than the other features.\n",
    "3) we can see from scatterplot that there is outliers present in this data\n",
    "4) becasue of outliers our data is skewed to left or right side of which is not acceptable\n",
    "5) if we want to train a model this poses a problem\n",
    "6) therefore for better visulization and oulier detection we can use sns.boxplot and remove outliers from the dataset"
   ]
  },
  {
   "cell_type": "code",
   "execution_count": null,
   "id": "c65ced71-054b-422f-9fe7-7222d0e144e1",
   "metadata": {},
   "outputs": [],
   "source": [
    "sns.pairplot(data)\n",
    "plt.suptitle(\"pairplot of numeric features\",y=1.02);\n",
    "plt.show();\n",
    "#in diagonal histograms we will get "
   ]
  },
  {
   "cell_type": "markdown",
   "id": "818201e6-cc83-4917-9f88-b86ed7996102",
   "metadata": {},
   "source": [
    "### Multi-Variate Analysis\n",
    "#### Perform correlation analysis.visually explore it using heat map."
   ]
  },
  {
   "cell_type": "code",
   "execution_count": null,
   "id": "4e522ed2-3d6e-4c3f-996a-acfe0acebf20",
   "metadata": {},
   "outputs": [],
   "source": [
    "plt.figure(figsize=(5,5))\n",
    "sns.heatmap(data.corr(),annot=True)\n",
    "plt.show()"
   ]
  },
  {
   "cell_type": "markdown",
   "id": "360ad91e-5f8f-4bea-84bb-1d6ad25e17be",
   "metadata": {},
   "source": [
    "we can see outcome has maximum relation with Glucose and minimum with blood pressure than the other features."
   ]
  },
  {
   "cell_type": "markdown",
   "id": "05d6783b-cc25-41f7-8707-5e2b0666010c",
   "metadata": {},
   "source": [
    "## Data Modelling\n",
    "1)Devise strategies for model building.It is important to decide right validation framework.\n",
    "\n",
    "strategies for model building :-\n",
    "    \n",
    "    1. Descriptive Analysis :-\n",
    "        -Identify ID, Input and Target features\n",
    "        -Identify categorical and numerical features\n",
    "        -Identify columns with missing values\n",
    "        \n",
    "    2. Data Treatment (Missing values treatment) :-\n",
    "        - Detecting outliers & removing them. \n",
    "        - Imputing mean, mode or median value at a place of missing value as per dataset   \n",
    "        \n",
    "    3.Feature Extraction / Feature Engineering :-\n",
    "        -we will remove noisy features from data\n",
    "        -By the help of correlation / heatmap / differnt types of feature selection techniques.\n",
    "        \n",
    "    4.Data is imbalanced\n",
    "        -For balancing the data we wil use SMOTE over sampling techinque.\n",
    "        \n",
    "    5.Building a model :-\n",
    "        - select a best algorithms for model\n",
    "        \n",
    "    6.Train a model\n",
    "    \n",
    "    7.Evaluation\n",
    "        - check a accuracy & mean squared error of model\n",
    "        \n",
    "    8.Hyper Parameter Tuning :-\n",
    "        -for decrese in RMSE check a best parameters for model.\n",
    "        \n",
    "    9.Create a clasification report. \n",
    "\n",
    "### Feature Selection "
   ]
  },
  {
   "cell_type": "code",
   "execution_count": null,
   "id": "e91ae5d8-c9b5-4e45-8a3b-44eb3daa5269",
   "metadata": {},
   "outputs": [],
   "source": [
    "#Data preparation for modeling\n",
    "x=data.drop(['Outcome'],axis=1)\n",
    "y=data['Outcome']#y is series now because having only one column\n",
    "x.head()"
   ]
  },
  {
   "cell_type": "code",
   "execution_count": null,
   "id": "e64e18c7-38d1-4037-bf2d-5dd3805ba856",
   "metadata": {},
   "outputs": [],
   "source": [
    "#finding the correlation of every feature with the outcome(target variable)\n",
    "data.corrwith(data['Outcome'])"
   ]
  },
  {
   "cell_type": "code",
   "execution_count": null,
   "id": "14990732-7183-4e74-afb4-fc657d3660ad",
   "metadata": {},
   "outputs": [],
   "source": [
    "bestfeatures = SelectKBest(score_func=chi2, k='all')\n",
    "fit = bestfeatures.fit(x,y)\n",
    "dfscores = pd.DataFrame(fit.scores_)\n",
    "dfcolumns = pd.DataFrame(x.columns)\n",
    "#concat two dataframes for better visualization \n",
    "featureScores = pd.concat([dfcolumns,dfscores],axis=1)\n",
    "featureScores.columns = ['Specs','Score']  #naming the dataframe columns\n",
    "print(featureScores.nlargest(8,'Score'))  #print 10 best features"
   ]
  },
  {
   "cell_type": "code",
   "execution_count": null,
   "id": "3a854294-8888-440c-bb29-9622f6407695",
   "metadata": {},
   "outputs": [],
   "source": [
    "plt.figure(figsize=(10,7))\n",
    "sns.heatmap(data.corr(),annot=True)\n",
    "plt.show()"
   ]
  },
  {
   "cell_type": "markdown",
   "id": "6a0160ef-df82-4252-8008-93fe335a776c",
   "metadata": {},
   "source": [
    "1) we can see BloodPressure feature has lowest relation with output column.\n",
    "2) so we will remove BloodPressure for training a good model with high accuracy."
   ]
  },
  {
   "cell_type": "code",
   "execution_count": null,
   "id": "5e613ca3-a180-4597-8b87-728d9c6ee649",
   "metadata": {},
   "outputs": [],
   "source": [
    "new_x=data.drop(['Outcome','BloodPressure'],axis=1).values \n",
    "new_y=data.Outcome.values\n"
   ]
  },
  {
   "cell_type": "markdown",
   "id": "99c1e773-3e47-49e3-b971-d7b45bce4f99",
   "metadata": {},
   "source": [
    "### SMOTE  to address the class imbalance\n",
    "\n",
    "#### Train a model"
   ]
  },
  {
   "cell_type": "code",
   "execution_count": null,
   "id": "c3f5c200-449d-45aa-a269-61dbe0ae0c6d",
   "metadata": {},
   "outputs": [],
   "source": [
    "# Train-Test Split for Data Modeling \n",
    "trainx,testx,trainy,testy=train_test_split(new_x,new_y,test_size=0.20,random_state=10)"
   ]
  },
  {
   "cell_type": "code",
   "execution_count": null,
   "id": "d22f267a-509f-4297-89ab-2b6bc74a82df",
   "metadata": {},
   "outputs": [],
   "source": [
    "\n",
    "print(\"Before OverSampling, counts of label '1': {}\".format(sum(trainy == 1))) \n",
    "print(\"Before OverSampling, counts of label '0': {} \\n\".format(sum(trainy == 0))) \n",
    "from imblearn.over_sampling import SMOTE\n",
    "sm = SMOTE(random_state =63) \n",
    "trainx_res,trainy_res = sm.fit_resample(trainx,trainy.ravel())\n",
    "print('After OverSampling, the shape of train_X: {}'.format(trainx_res.shape)) \n",
    "print('After OverSampling, the shape of train_y: {} \\n'.format(trainy_res.shape))\n",
    "print(\"After OverSampling, counts of label '1': {}\".format(sum(trainy_res == 1)))\n",
    "print(\"After OverSampling, counts of label '0': {}\".format(sum(trainy_res == 0)))"
   ]
  },
  {
   "cell_type": "markdown",
   "id": "7c858a9b-849c-4818-8aee-1398d2703cb0",
   "metadata": {},
   "source": [
    "### Applying an appropriate classification algorithm to build a model\n",
    "\n",
    "Model 1:Building a logistic regression model"
   ]
  },
  {
   "cell_type": "code",
   "execution_count": null,
   "id": "e315bd56-d0dd-41fb-9d56-d043e01b8e36",
   "metadata": {},
   "outputs": [],
   "source": [
    "logreg=LogisticRegression(solver='liblinear',random_state=123)"
   ]
  },
  {
   "cell_type": "code",
   "execution_count": null,
   "id": "cdf983a4-e812-4ebd-8f92-bbe565ecbc08",
   "metadata": {},
   "outputs": [],
   "source": [
    "logreg.fit(trainx_res,trainy_res)"
   ]
  },
  {
   "cell_type": "code",
   "execution_count": null,
   "id": "a5ffd0ff-6c2b-4cbf-9e5b-4908f4c7beab",
   "metadata": {},
   "outputs": [],
   "source": [
    "prediction = logreg.predict(testx)"
   ]
  },
  {
   "cell_type": "code",
   "execution_count": null,
   "id": "42e370a4-1bf1-4250-b7db-ca4d7a44d842",
   "metadata": {},
   "outputs": [],
   "source": [
    "print('Accuracy_score -',accuracy_score(testy,prediction))\n",
    "print('Mean_squared_error -',mean_squared_error(testy,prediction))"
   ]
  },
  {
   "cell_type": "code",
   "execution_count": null,
   "id": "3800e510-5395-4116-aad7-aaae09119fbd",
   "metadata": {},
   "outputs": [],
   "source": [
    "logreg.fit(trainx_res,trainy_res)\n",
    "prediction = logreg.predict(testx)"
   ]
  },
  {
   "cell_type": "code",
   "execution_count": null,
   "id": "8d93a80a-336b-4f55-9e65-dc490e5e01f7",
   "metadata": {},
   "outputs": [],
   "source": [
    "conf_matrix = confusion_matrix(testy, prediction)\n",
    "print(conf_matrix)"
   ]
  },
  {
   "cell_type": "code",
   "execution_count": null,
   "id": "d676bd4a-8b35-457d-a478-a2d3c51ffbef",
   "metadata": {},
   "outputs": [],
   "source": [
    "print(classification_report(testy,prediction))\n"
   ]
  },
  {
   "cell_type": "code",
   "execution_count": null,
   "id": "14bffbdd-1cea-416d-b06d-5e3c65d8efef",
   "metadata": {},
   "outputs": [],
   "source": [
    "#Preparing ROC Curve (Receiver Operating Characteristics Curve) \n",
    "from sklearn.metrics import roc_curve\n",
    "from sklearn.metrics import roc_auc_score \n",
    "# predict probabilities\n",
    "probs = logreg.predict_proba(trainx_res) \n",
    "# keep probabilities for the positive outcome only \n",
    "probs = probs[:, 1] # calculate AUC \n",
    "auc = roc_auc_score(trainy_res, probs) \n",
    "print('AUC: %.3f' % auc) \n",
    "# calculate roc curve\n",
    "fpr, tpr, thresholds = roc_curve(trainy_res, probs) \n",
    "# plot no skill\n",
    "plt.plot([0, 1], [0, 1], linestyle='--')\n",
    "# plot the roc curve for the model \n",
    "plt.plot(fpr, tpr, marker='.')\n",
    "plt.show()"
   ]
  },
  {
   "cell_type": "markdown",
   "id": "49ba2b9c-efc7-4b98-9df1-6eadfbfef96b",
   "metadata": {},
   "source": [
    "### Model:2=>Random Forest Classifier"
   ]
  },
  {
   "cell_type": "code",
   "execution_count": null,
   "id": "42c958c5-77f7-4ffb-aa90-10a21bb46aa8",
   "metadata": {},
   "outputs": [],
   "source": [
    "rf=RandomForestClassifier(random_state=42,max_depth=5)"
   ]
  },
  {
   "cell_type": "code",
   "execution_count": null,
   "id": "a204a921-1b2f-4082-a617-8e8be393e212",
   "metadata": {},
   "outputs": [],
   "source": [
    "rf.fit(trainx_res,trainy_res)"
   ]
  },
  {
   "cell_type": "code",
   "execution_count": null,
   "id": "3caed013-cd08-4c4c-8940-9980b9aec382",
   "metadata": {},
   "outputs": [],
   "source": [
    "rf_predict=rf.predict(testx)"
   ]
  },
  {
   "cell_type": "code",
   "execution_count": null,
   "id": "7cd5d353-4e52-46fd-8804-f3a0295db1eb",
   "metadata": {},
   "outputs": [],
   "source": [
    "print('Accuracy_score -',accuracy_score(testy,rf_predict)) \n",
    "print('Mean_squared_error -',mean_squared_error(testy,rf_predict))"
   ]
  },
  {
   "cell_type": "markdown",
   "id": "6b8795a2-3352-4f55-8464-82bc3ccb7144",
   "metadata": {},
   "source": [
    "### RandomForestClassifier(Hyper Parameter Tunning)"
   ]
  },
  {
   "cell_type": "code",
   "execution_count": null,
   "id": "3f5e8ea2-416e-4d75-b3ea-ef5dd934a1e2",
   "metadata": {},
   "outputs": [],
   "source": [
    "param_grid={'n_estimators':[100,400,200,300],'criterion':['gini','entropy'],'max_depth':[1,2,3],'min_samples_split':[2,4,3],'min_samples_leaf':[1,2,3], 'max_leaf_nodes':[1,2,3],'max_samples':[2,4,3]}"
   ]
  },
  {
   "cell_type": "code",
   "execution_count": null,
   "id": "96ab77ea-69d9-4459-980f-d39b0c1272c5",
   "metadata": {},
   "outputs": [],
   "source": [
    "grid=GridSearchCV( estimator=rf,param_grid=param_grid,n_jobs=-1,cv=5,verbose=2)"
   ]
  },
  {
   "cell_type": "code",
   "execution_count": null,
   "id": "07fb2fc6-e8f6-4478-925e-28b01ff5cdcc",
   "metadata": {},
   "outputs": [],
   "source": [
    "rf_grid=RandomForestClassifier(criterion= 'gini',max_depth= 2,max_leaf_nodes=3,max_samples=4,min_samples_leaf= 1,min_samples_split=3, n_estimators= 400,random_state=42)\n",
    "\n"
   ]
  },
  {
   "cell_type": "code",
   "execution_count": null,
   "id": "04755ade-6e6f-4567-9221-806aa435f53c",
   "metadata": {},
   "outputs": [],
   "source": [
    "rf_grid.fit(trainx_res,trainy_res)\n",
    "\n"
   ]
  },
  {
   "cell_type": "code",
   "execution_count": null,
   "id": "154bb9cf-56c6-429e-8530-f844b3385006",
   "metadata": {},
   "outputs": [],
   "source": [
    "rf_grid_predict=rf_grid.predict(testx)\n",
    "\n"
   ]
  },
  {
   "cell_type": "code",
   "execution_count": null,
   "id": "b661d862-684f-482d-924a-d27660edda3e",
   "metadata": {},
   "outputs": [],
   "source": [
    "print('Accuracy_score -',accuracy_score(testy,rf_grid_predict)) \n",
    "print('Mean_squared_error -',mean_squared_error(testy,rf_grid_predict))\n",
    "\n",
    "\n"
   ]
  },
  {
   "cell_type": "code",
   "execution_count": null,
   "id": "81ebdd3a-888b-4a80-99e1-6392f6a3ebc1",
   "metadata": {},
   "outputs": [],
   "source": [
    "print((confusion_matrix(testy,prediction)))\n",
    "\n"
   ]
  },
  {
   "cell_type": "code",
   "execution_count": null,
   "id": "37305191-a74d-4515-9720-477b49c3265d",
   "metadata": {},
   "outputs": [],
   "source": [
    "print(classification_report(testy,prediction))\n",
    "\n",
    "\n"
   ]
  },
  {
   "cell_type": "code",
   "execution_count": null,
   "id": "ebef449f-ca77-4a57-81fe-109a4c529c04",
   "metadata": {},
   "outputs": [],
   "source": [
    "#Preparing ROC Curve (Receiver Operating Characteristics Curve) \n",
    "from sklearn.metrics import roc_curve \n",
    "from sklearn.metrics import roc_auc_score\n",
    "# predict probabilities \n",
    "probs = rf.predict_proba(trainx_res) \n",
    "# keep probabilities for the positive outcome only \n",
    "probs = probs[:, 1] \n",
    "# calculate AUC \n",
    "auc = roc_auc_score(trainy_res, probs) \n",
    "print('AUC: %.3f' % auc) \n",
    "# calculate roc curve\n",
    "fpr, tpr, thresholds = roc_curve(trainy_res, probs) \n",
    "# plot no skill \n",
    "plt.plot([0, 1], [0, 1], linestyle='--') \n",
    "# plot the roc curve for the model\n",
    "plt.plot(fpr, tpr, marker='.') \n",
    "plt.show()"
   ]
  },
  {
   "cell_type": "markdown",
   "id": "28375e75-999b-467c-85f0-03baf7cce4a1",
   "metadata": {},
   "source": [
    "### Model:3 Decision tree classifier"
   ]
  },
  {
   "cell_type": "code",
   "execution_count": null,
   "id": "4df71910-20c5-47f8-a740-8ec77d2da021",
   "metadata": {},
   "outputs": [],
   "source": [
    "dc=DecisionTreeClassifier(random_state=42)\n",
    "\n",
    "dc.fit(trainx_res,trainy_res)\n",
    "\n",
    "dc_pred=dc.predict(testx)\n",
    "\n",
    "print('Accuracy_score -',accuracy_score(testy,dc_pred)) \n",
    "print('Mean_squared_error -',mean_squared_error(testy,dc_pred))"
   ]
  },
  {
   "cell_type": "markdown",
   "id": "e2050e38-b9d5-4bc0-88c9-f875aa6fc92b",
   "metadata": {},
   "source": [
    "#### Decision Tree Classifier (Hyper Parameter Tunning)"
   ]
  },
  {
   "cell_type": "code",
   "execution_count": null,
   "id": "ea541377-fa86-4c63-9385-1be5f33cdcfa",
   "metadata": {},
   "outputs": [],
   "source": [
    "dc_param_grid={'splitter':[\"best\", \"random\"],'criterion':['gini','entropy'],'max_depth':[1,2,3], 'min_samples_split':[1,2,3],'min_samples_leaf':[1,2,3],'max_leaf_nodes':[1,2,3]}"
   ]
  },
  {
   "cell_type": "code",
   "execution_count": null,
   "id": "1da754cb-503c-408b-909a-896493854efe",
   "metadata": {},
   "outputs": [],
   "source": [
    "import warnings \n",
    "warnings.filterwarnings('ignore') \n",
    "dc_grid=GridSearchCV(estimator=dc,param_grid=dc_param_grid,n_jobs=-1,cv=5,verbose=2) \n",
    "dc_grid.fit(trainx_res,trainy_res)"
   ]
  },
  {
   "cell_type": "code",
   "execution_count": null,
   "id": "d312562e-4368-4487-94c9-a710847f7f02",
   "metadata": {},
   "outputs": [],
   "source": [
    "dc_grid.best_params_"
   ]
  },
  {
   "cell_type": "code",
   "execution_count": null,
   "id": "058a5030-f673-43ba-9f07-9f7b546c0ec5",
   "metadata": {},
   "outputs": [],
   "source": [
    "dc_final=DecisionTreeClassifier(criterion= 'gini', max_depth=2,max_leaf_nodes=4,min_samples_leaf= 1, min_samples_split= 2,splitter='best',random_state=42)"
   ]
  },
  {
   "cell_type": "code",
   "execution_count": null,
   "id": "7547b7e2-a485-4f3d-a0a8-e0d71b022959",
   "metadata": {},
   "outputs": [],
   "source": [
    "dc_final.fit(trainx_res,trainy_res)\n",
    "dc_final_pred=dc_final.predict(testx)"
   ]
  },
  {
   "cell_type": "code",
   "execution_count": null,
   "id": "c1014f6f-2379-4e02-8094-bae31244aba5",
   "metadata": {},
   "outputs": [],
   "source": [
    "\n",
    "print('Accuracy_score -',accuracy_score(testy,dc_final_pred)) \n",
    "print('Mean_squared_error -',mean_squared_error(testy,dc_final_pred))\n"
   ]
  },
  {
   "cell_type": "code",
   "execution_count": null,
   "id": "733dfcb9-9afa-45de-ac3d-0dbdcc4429dd",
   "metadata": {},
   "outputs": [],
   "source": [
    "print((confusion_matrix(testy,dc_final_pred)))\n"
   ]
  },
  {
   "cell_type": "code",
   "execution_count": null,
   "id": "a4146d9b-3298-4418-b913-0bed5f267164",
   "metadata": {},
   "outputs": [],
   "source": [
    "print((classification_report(testy,dc_final_pred)))"
   ]
  },
  {
   "cell_type": "code",
   "execution_count": null,
   "id": "e662b39a-2141-4cbc-98ca-3464c807d82a",
   "metadata": {},
   "outputs": [],
   "source": [
    "#preparing ROC curve (Receiver Operating Characteristics Curve)\n",
    "probs=dc_final.predict_proba(trainx_res)\n",
    "probs=probs[:,1]\n",
    "auc=roc_auc_score(trainy_res,probs)\n",
    "print('AUC: %.3f' %auc)\n",
    "fpr,tpr,thresholds=roc_curve(trainy_res,probs)\n",
    "plt.plot([0,1],[0,1],linestyle='--')\n",
    "plt.plot(fpr,tpr,marker='.')\n",
    "plt.show()"
   ]
  },
  {
   "cell_type": "markdown",
   "id": "e1780602-7b85-4101-9992-a84f82509500",
   "metadata": {},
   "source": [
    "### Model 4 :KNN"
   ]
  },
  {
   "cell_type": "code",
   "execution_count": null,
   "id": "6a64d1ca-bd52-4ff2-bb7e-ca74cf4eca2c",
   "metadata": {},
   "outputs": [],
   "source": [
    "knn=KNeighborsClassifier(n_neighbors=4)"
   ]
  },
  {
   "cell_type": "code",
   "execution_count": null,
   "id": "adbee49d-c6a2-4b00-ba3a-cacc947c495f",
   "metadata": {},
   "outputs": [],
   "source": [
    "knn.fit(trainx_res,trainy_res)"
   ]
  },
  {
   "cell_type": "code",
   "execution_count": null,
   "id": "49e3b657-b872-42c4-a86b-9fe4caae98c3",
   "metadata": {},
   "outputs": [],
   "source": [
    "knn_pred=knn.predict(testx)"
   ]
  },
  {
   "cell_type": "code",
   "execution_count": null,
   "id": "804df900-98ea-428b-a01b-03dd06b38238",
   "metadata": {},
   "outputs": [],
   "source": [
    "print('Accuracy_score -',accuracy_score(testy,knn_pred)) \n",
    "print('Mean_squared_error -',mean_squared_error(testy,knn_pred))"
   ]
  },
  {
   "cell_type": "code",
   "execution_count": null,
   "id": "ed41bbae-bdbd-4224-8db0-a4814d13ea32",
   "metadata": {},
   "outputs": [],
   "source": [
    "print((confusion_matrix(testy,knn_pred)))"
   ]
  },
  {
   "cell_type": "code",
   "execution_count": null,
   "id": "8622d6a0-0099-44b4-8c5c-104dd8e84352",
   "metadata": {},
   "outputs": [],
   "source": [
    "print((classification_report(testy,knn_pred)))"
   ]
  },
  {
   "cell_type": "code",
   "execution_count": null,
   "id": "b7276612-dfad-4b5c-9372-6a69178b1640",
   "metadata": {},
   "outputs": [],
   "source": [
    "#Preparing ROC Curve (Receiver Operating Characteristics Curve) \n",
    "from sklearn.metrics import roc_curve\n",
    "from sklearn.metrics import roc_auc_score \n",
    "# predict probabilities \n",
    "probs = knn.predict_proba(trainx_res) \n",
    "\n",
    "# keep probabilities for the positive outcome only\n",
    "probs = probs[:, 1] \n",
    "# calculate AUC\n",
    "auc = roc_auc_score(trainy_res, probs) \n",
    "print('AUC: %.3f' % auc) \n",
    "# calculate roc curve\n",
    "fpr, tpr, thresholds = roc_curve(trainy_res, probs) \n",
    "# plot no skill \n",
    "plt.plot([0, 1], [0, 1], linestyle='--') \n",
    "# plot the roc curve for the model\n",
    "plt.plot(fpr, tpr, marker='.') \n",
    "plt.show()"
   ]
  },
  {
   "cell_type": "markdown",
   "id": "8c84a061-a9b4-4f4f-9cec-b48cb2ec9cab",
   "metadata": {},
   "source": [
    "### Model Accuracy Comparison"
   ]
  },
  {
   "cell_type": "code",
   "execution_count": null,
   "id": "2c59fe17-4530-4f33-8c78-d6d7dc848126",
   "metadata": {},
   "outputs": [],
   "source": [
    "Algorithms=['KNN','RandomForest','Decisiontree','logreg']\n",
    "Accuracy_Score=[accuracy_score(testy,knn_pred),accuracy_score(testy,rf_grid_predict),accuracy_score(testy,dc_final_pred),accuracy_score(testy,prediction)]\n",
    "# Create a DataFrame\n",
    "accuracy_df = pd.DataFrame({'Algorithm': Algorithms, 'Accuracy': Accuracy_Score})"
   ]
  },
  {
   "cell_type": "code",
   "execution_count": null,
   "id": "1b9e42df-4484-44e3-bf26-a3ff874df287",
   "metadata": {},
   "outputs": [],
   "source": [
    "# Display the accuracy table\n",
    "print(accuracy_df)"
   ]
  },
  {
   "cell_type": "markdown",
   "id": "e88de63b-b307-4d87-99df-c7ab97ea9aa1",
   "metadata": {},
   "source": [
    "Inferences from Model Accuracy Comparison\n",
    "1) RandomForest Performs Well:\n",
    "\n",
    "Among the algorithms tested, RandomForest exhibits the highest accuracy at 73.38%.\n",
    "\n",
    "2) KNN Shows Lower Accuracy:\n",
    "\n",
    "KNN has the lowest accuracy among the models, with a score of 62.34%.\n",
    "\n",
    "3) Consistent Performances:\n",
    "\n",
    "Decision Tree, SVM, Naive Bayes, and XGBoost show relatively similar accuracies, ranging from 68.83% to 72.08%.\n",
    "\n",
    "4) Consideration for Model Selection:\n",
    "\n",
    "The choice of the algorithm depends on various factors, including the specific requirements of the task, interpretability, and computational efficiency.\n",
    "\n",
    "5) Further Evaluation:\n",
    "\n",
    "Additional evaluation metrics, such as precision, recall, and F1 score, should be considered for a comprehensive assessment of model performance.\n"
   ]
  },
  {
   "cell_type": "code",
   "execution_count": null,
   "id": "46760bf1-f4e9-4172-8609-3cf861d6bc09",
   "metadata": {},
   "outputs": [],
   "source": [
    "#creating the objects \n",
    "logreg_cv = LogisticRegression(solver='liblinear',random_state=123) \n",
    "dt_cv=DecisionTreeClassifier(random_state=123) \n",
    "knn_cv=KNeighborsClassifier() \n",
    "rf_cv=RandomForestClassifier(random_state=123) \n",
    "cv_dict = {0: 'Logistic Regression', 1: 'Decision Tree',2:'KNN',3:'Random Forest'} \n",
    "cv_models=[logreg_cv,dt_cv,knn_cv,rf_cv] \n",
    "for i,model in enumerate(cv_models): \n",
    "    print(\"{} Test Accuracy: {}\".format(cv_dict[i],cross_val_score(model, trainx, trainy, cv=10, scoring ='accuracy').mean()))"
   ]
  },
  {
   "cell_type": "markdown",
   "id": "b6bccf0c-1ee6-492d-bfa6-302470617079",
   "metadata": {},
   "source": [
    "**Inferences from Model Comparison with KNN Algorithm Results**\n",
    "1) **Logistic Regression Outperforms:**\n",
    "    Among the models tested, Logistic Regression exhibits the highest test accuracy at 77.68%.\n",
    "\n",
    "2) **Decisive Model Differences:**\n",
    "\n",
    "    Decision Tree, and Random Forest show lower test accuracies compared to Logistic Regression, ranging from 70.53% to 76.21%.\n",
    "\n",
    "3) **Consideration for Model Selection:**\n",
    "\n",
    "    Logistic Regression might be preferred choices based on higher test accuracies, but other factors such as interpretability and computational efficiency should be considered.\n",
    "\n",
    "4) **Cross-Validation Insights:**\n",
    "\n",
    "    The use of cross-validation provides a robust estimate of model performance, reducing the impact of data partitioning on results.\n",
    "\n",
    "5) **Further Exploration:**\n",
    "\n",
    "    Evaluation metrics beyond accuracy, such as precision, recall, and F1 score, should be considered for a comprehensive understanding of model effectiveness.\n"
   ]
  }
 ],
 "metadata": {
  "kernelspec": {
   "display_name": "Python 3 (ipykernel)",
   "language": "python",
   "name": "python3"
  },
  "language_info": {
   "codemirror_mode": {
    "name": "ipython",
    "version": 3
   },
   "file_extension": ".py",
   "mimetype": "text/x-python",
   "name": "python",
   "nbconvert_exporter": "python",
   "pygments_lexer": "ipython3",
   "version": "3.12.3"
  }
 },
 "nbformat": 4,
 "nbformat_minor": 5
}
